{
 "cells": [
  {
   "cell_type": "code",
   "execution_count": 3,
   "metadata": {},
   "outputs": [],
   "source": [
    "import os\n",
    "from os.path import join\n",
    "import pandas as pd\n",
    "from datetime import datetime, timedelta\n",
    "from personal_info import VISUAL_CROSSING_KEY"
   ]
  },
  {
   "cell_type": "code",
   "execution_count": 6,
   "metadata": {},
   "outputs": [],
   "source": [
    "# data interval\n",
    "data_inicio = datetime.today()\n",
    "data_fim = data_inicio + timedelta(days=7)"
   ]
  },
  {
   "cell_type": "code",
   "execution_count": 7,
   "metadata": {},
   "outputs": [
    {
     "name": "stdout",
     "output_type": "stream",
     "text": [
      "                        name    datetime  tempmax  tempmin  temp  \\\n",
      "0  Boston, MA, United States  2024-11-09     11.2      4.5   7.7   \n",
      "1  Boston, MA, United States  2024-11-10     12.8      2.3   8.1   \n",
      "2  Boston, MA, United States  2024-11-11     16.7     11.7  14.3   \n",
      "3  Boston, MA, United States  2024-11-12     12.1      5.5   9.9   \n",
      "4  Boston, MA, United States  2024-11-13      6.5      2.1   4.7   \n",
      "\n",
      "   feelslikemax  feelslikemin  feelslike  dew  humidity  ...  solarenergy  \\\n",
      "0          11.2           1.2        4.7 -6.8      35.9  ...          6.2   \n",
      "1          12.8          -0.5        6.7 -1.5      51.9  ...          9.6   \n",
      "2          16.7          11.7       14.3  9.6      74.3  ...          9.7   \n",
      "3          12.1           1.8        8.7  1.0      54.8  ...         11.1   \n",
      "4           4.1          -1.8        1.7 -4.8      50.3  ...         10.6   \n",
      "\n",
      "   uvindex  severerisk              sunrise               sunset  moonphase  \\\n",
      "0        5          10  2024-11-09T06:28:15  2024-11-09T16:27:30       0.25   \n",
      "1        4          10  2024-11-10T06:29:31  2024-11-10T16:26:28       0.32   \n",
      "2        4          10  2024-11-11T06:30:46  2024-11-11T16:25:27       0.35   \n",
      "3        4          10  2024-11-12T06:32:01  2024-11-12T16:24:28       0.39   \n",
      "4        4          10  2024-11-13T06:33:16  2024-11-13T16:23:31       0.42   \n",
      "\n",
      "               conditions                                        description  \\\n",
      "0                   Clear               Clear conditions throughout the day.   \n",
      "1  Rain, Partially cloudy  Partly cloudy throughout the day with late aft...   \n",
      "2  Rain, Partially cloudy  Clearing in the afternoon with early morning r...   \n",
      "3                   Clear               Clear conditions throughout the day.   \n",
      "4                   Clear               Clear conditions throughout the day.   \n",
      "\n",
      "        icon              stations  \n",
      "0  clear-day  KOWD,AV085,KBED,KBOS  \n",
      "1       rain                   NaN  \n",
      "2       rain                   NaN  \n",
      "3  clear-day                   NaN  \n",
      "4  clear-day                   NaN  \n",
      "\n",
      "[5 rows x 33 columns]\n"
     ]
    }
   ],
   "source": [
    "# formatando as datas\n",
    "data_inicio = data_inicio.strftime('%Y-%m-%d')\n",
    "data_fim = data_fim.strftime('%Y-%m-%d')\n",
    "\n",
    "city = 'Boston'\n",
    "key = VISUAL_CROSSING_KEY\n",
    "URL = f\"https://weather.visualcrossing.com/VisualCrossingWebServices/rest/services/timeline/{city}/{data_inicio}/{data_fim}?unitGroup=metric&include=days&key={key}&contentType=csv\"\n",
    "\n",
    "dados = pd.read_csv(URL)\n",
    "print(dados.head())"
   ]
  },
  {
   "cell_type": "code",
   "execution_count": null,
   "metadata": {},
   "outputs": [],
   "source": [
    "file_path = f\"semana={data_inicio}/\"\n",
    "os.mkdir(file_path)"
   ]
  },
  {
   "cell_type": "code",
   "execution_count": 16,
   "metadata": {},
   "outputs": [],
   "source": [
    "dados.to_csv(file_path + \"dados_brutos.csv\")\n",
    "dados[['datetime', 'tempmin', 'temp', 'tempmax']].to_csv(file_path + 'temperaturas.csv')\n",
    "dados[['datetime', 'description', 'icon']].to_csv(file_path + 'condicoes.csv')"
   ]
  }
 ],
 "metadata": {
  "kernelspec": {
   "display_name": ".venv",
   "language": "python",
   "name": "python3"
  },
  "language_info": {
   "codemirror_mode": {
    "name": "ipython",
    "version": 3
   },
   "file_extension": ".py",
   "mimetype": "text/x-python",
   "name": "python",
   "nbconvert_exporter": "python",
   "pygments_lexer": "ipython3",
   "version": "3.10.12"
  }
 },
 "nbformat": 4,
 "nbformat_minor": 2
}
