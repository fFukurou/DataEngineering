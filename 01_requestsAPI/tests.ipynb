{
 "cells": [
  {
   "cell_type": "code",
   "execution_count": 1,
   "metadata": {},
   "outputs": [],
   "source": [
    "import requests"
   ]
  },
  {
   "cell_type": "code",
   "execution_count": 11,
   "metadata": {},
   "outputs": [
    {
     "name": "stdout",
     "output_type": "stream",
     "text": [
      "200\n",
      "https://api.github.com/users/fFukurou\n",
      "{'login': 'fFukurou', 'id': 116623472, 'node_id': 'U_kgDOBvOIcA', 'avatar_url': 'https://avatars.githubusercontent.com/u/116623472?v=4', 'gravatar_id': '', 'url': 'https://api.github.com/users/fFukurou', 'html_url': 'https://github.com/fFukurou', 'followers_url': 'https://api.github.com/users/fFukurou/followers', 'following_url': 'https://api.github.com/users/fFukurou/following{/other_user}', 'gists_url': 'https://api.github.com/users/fFukurou/gists{/gist_id}', 'starred_url': 'https://api.github.com/users/fFukurou/starred{/owner}{/repo}', 'subscriptions_url': 'https://api.github.com/users/fFukurou/subscriptions', 'organizations_url': 'https://api.github.com/users/fFukurou/orgs', 'repos_url': 'https://api.github.com/users/fFukurou/repos', 'events_url': 'https://api.github.com/users/fFukurou/events{/privacy}', 'received_events_url': 'https://api.github.com/users/fFukurou/received_events', 'type': 'User', 'user_view_type': 'public', 'site_admin': False, 'name': None, 'company': None, 'blog': '', 'location': None, 'email': None, 'hireable': None, 'bio': None, 'twitter_username': None, 'public_repos': 19, 'public_gists': 0, 'followers': 7, 'following': 12, 'created_at': '2022-10-25T06:12:58Z', 'updated_at': '2024-10-31T03:41:46Z'}\n"
     ]
    }
   ],
   "source": [
    "url = f'https://api.github.com/users/fFukurou'\n",
    "\n",
    "r = requests.get(url)\n",
    "print(r.status_code)\n",
    "print(r.url)\n",
    "print(r.json())\n",
    "\n",
    "user = r.json()"
   ]
  },
  {
   "cell_type": "code",
   "execution_count": 15,
   "metadata": {},
   "outputs": [
    {
     "name": "stdout",
     "output_type": "stream",
     "text": [
      "\n",
      "      Nome: ????\n",
      "      Username: fFukurou\n",
      "      Number of public repos: 19\n",
      "      Creation Date: 2022-10-25T06:12:58Z\n",
      "        \n"
     ]
    }
   ],
   "source": [
    "print(f\"\"\"\n",
    "      Nome: ????\n",
    "      Username: {user['login']}\n",
    "      Number of public repos: {user['public_repos']}\n",
    "      Creation Date: {user['created_at']}\n",
    "        \"\"\")"
   ]
  },
  {
   "cell_type": "code",
   "execution_count": null,
   "metadata": {},
   "outputs": [],
   "source": []
  }
 ],
 "metadata": {
  "kernelspec": {
   "display_name": ".venv",
   "language": "python",
   "name": "python3"
  },
  "language_info": {
   "codemirror_mode": {
    "name": "ipython",
    "version": 3
   },
   "file_extension": ".py",
   "mimetype": "text/x-python",
   "name": "python",
   "nbconvert_exporter": "python",
   "pygments_lexer": "ipython3",
   "version": "3.10.12"
  }
 },
 "nbformat": 4,
 "nbformat_minor": 2
}
