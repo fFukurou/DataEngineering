{
 "cells": [
  {
   "cell_type": "code",
   "execution_count": 9,
   "metadata": {},
   "outputs": [],
   "source": [
    "import requests\n",
    "from personal_info import access_token\n",
    "import json"
   ]
  },
  {
   "cell_type": "code",
   "execution_count": 3,
   "metadata": {},
   "outputs": [],
   "source": [
    "\n",
    "# r = requests.get('https://api.github.com/versions')\n",
    "# r.status_code\n",
    "# r.json()\n",
    "# r.headers['Content-Type']"
   ]
  },
  {
   "cell_type": "code",
   "execution_count": 4,
   "metadata": {},
   "outputs": [
    {
     "data": {
      "text/plain": [
       "'https://api.github.com/users/amzn/repos'"
      ]
     },
     "execution_count": 4,
     "metadata": {},
     "output_type": "execute_result"
    }
   ],
   "source": [
    "# especificando a versão da API\n",
    "headers = {'X-GitHub-Api-Version': '2022-11-28',\n",
    "           'Authorization': 'Bearer' + access_token}\n",
    "api_base_url = 'https://api.github.com'\n",
    "owner = 'amzn' # username from whom we will extract the data\n",
    "url = f\"{api_base_url}/users/{owner}/repos\"\n",
    "\n",
    "url"
   ]
  },
  {
   "cell_type": "code",
   "execution_count": 5,
   "metadata": {},
   "outputs": [
    {
     "data": {
      "text/plain": [
       "200"
      ]
     },
     "execution_count": 5,
     "metadata": {},
     "output_type": "execute_result"
    }
   ],
   "source": [
    "response = requests.get(url=url, headers=headers)\n",
    "response.status_code\n"
   ]
  },
  {
   "cell_type": "code",
   "execution_count": 6,
   "metadata": {},
   "outputs": [
    {
     "name": "stdout",
     "output_type": "stream",
     "text": [
      "<class 'list'>\n",
      "30\n"
     ]
    }
   ],
   "source": [
    "print(type(response.json()))\n",
    "print(len(response.json()))\n"
   ]
  },
  {
   "cell_type": "markdown",
   "metadata": {},
   "source": [
    "## Paginando os repositórios\n"
   ]
  },
  {
   "cell_type": "code",
   "execution_count": 7,
   "metadata": {},
   "outputs": [
    {
     "data": {
      "text/plain": [
       "'https://api.github.com/users/amzn/repos'"
      ]
     },
     "execution_count": 7,
     "metadata": {},
     "output_type": "execute_result"
    }
   ],
   "source": [
    "url"
   ]
  },
  {
   "cell_type": "code",
   "execution_count": null,
   "metadata": {},
   "outputs": [],
   "source": [
    "repos_list = []\n",
    "page_num = 1\n",
    "\n",
    "while True:\n",
    "    try:\n",
    "        url_page = f'{url}?page={page_num}'\n",
    "        response = requests.get(url_page, headers=headers)\n",
    "        if len(response.json()) == 0:\n",
    "            break\n",
    "        repos_list.append(response.json())\n",
    "        page_num += 1\n",
    "    except:\n",
    "        repos_list.append(None)\n",
    "        break"
   ]
  },
  {
   "cell_type": "code",
   "execution_count": 9,
   "metadata": {},
   "outputs": [
    {
     "name": "stdout",
     "output_type": "stream",
     "text": [
      "6\n",
      "30\n"
     ]
    }
   ],
   "source": [
    "# Cada item da lista é uma página, com seus respectivos repos\n",
    "print(len(repos_list))\n",
    "print(len(repos_list[0]))\n",
    "\n"
   ]
  },
  {
   "cell_type": "markdown",
   "metadata": {},
   "source": [
    "## Transformando os dados"
   ]
  },
  {
   "cell_type": "markdown",
   "metadata": {},
   "source": [
    "### Nome dos repos"
   ]
  },
  {
   "cell_type": "code",
   "execution_count": 10,
   "metadata": {},
   "outputs": [
    {
     "data": {
      "text/plain": [
       "'ads-pao-amznjs-gtm-template'"
      ]
     },
     "execution_count": 10,
     "metadata": {},
     "output_type": "execute_result"
    }
   ],
   "source": [
    "repos_list[0][2]['name']"
   ]
  },
  {
   "cell_type": "code",
   "execution_count": 11,
   "metadata": {},
   "outputs": [],
   "source": [
    "repos_name = []\n",
    "\n",
    "for page in repos_list:\n",
    "    for repo in page:\n",
    "        repos_name.append(repo['name'])"
   ]
  },
  {
   "cell_type": "code",
   "execution_count": 12,
   "metadata": {},
   "outputs": [
    {
     "data": {
      "text/plain": [
       "['.github',\n",
       " 'ads-advanced-tools-docs',\n",
       " 'ads-pao-amznjs-gtm-template',\n",
       " 'alexa-coho',\n",
       " 'alexa-skills-kit-js',\n",
       " 'amazon-ads-advertiser-audience-normalization-sdk-py',\n",
       " 'amazon-advertising-api-php-sdk',\n",
       " 'amazon-codeguru-profiler-for-spark',\n",
       " 'amazon-frustration-free-setup-certification-tool',\n",
       " 'amazon-hub-counter-api-docs']"
      ]
     },
     "execution_count": 12,
     "metadata": {},
     "output_type": "execute_result"
    }
   ],
   "source": [
    "repos_name[:10]"
   ]
  },
  {
   "cell_type": "code",
   "execution_count": 13,
   "metadata": {},
   "outputs": [
    {
     "data": {
      "text/plain": [
       "158"
      ]
     },
     "execution_count": 13,
     "metadata": {},
     "output_type": "execute_result"
    }
   ],
   "source": [
    "len(repos_name)"
   ]
  },
  {
   "cell_type": "markdown",
   "metadata": {},
   "source": [
    "### Linguagens dos repos"
   ]
  },
  {
   "cell_type": "code",
   "execution_count": 14,
   "metadata": {},
   "outputs": [
    {
     "data": {
      "text/plain": [
       "'Python'"
      ]
     },
     "execution_count": 14,
     "metadata": {},
     "output_type": "execute_result"
    }
   ],
   "source": [
    "repos_list[0][29]['language']"
   ]
  },
  {
   "cell_type": "code",
   "execution_count": 15,
   "metadata": {},
   "outputs": [],
   "source": [
    "repos_language = []\n",
    "\n",
    "for page in repos_list:\n",
    "    for repo in page:\n",
    "        repos_language.append(repo['language'])"
   ]
  },
  {
   "cell_type": "code",
   "execution_count": 16,
   "metadata": {},
   "outputs": [
    {
     "name": "stdout",
     "output_type": "stream",
     "text": [
      "[None, 'Jupyter Notebook', 'Smarty', 'JavaScript', None, 'Python', 'PHP', 'Java', 'Python', 'CSS', 'Java', 'Java', 'Java', 'C#', 'PHP', 'Ruby', 'JavaScript', 'Python', 'PHP', 'Python', 'Jupyter Notebook', 'C#', 'Java', 'JavaScript', 'PHP', 'Ruby', 'C#', 'Java', 'PHP', 'Python', 'Ruby', 'PHP', 'Kotlin', 'PHP', 'Python', 'C', None, 'Swift', 'Python', 'C++', 'Python', 'Go', 'C', 'Python', 'Python', 'Jupyter Notebook', 'Python', 'Python', None, 'Java', 'Kotlin', 'Python', 'Python', 'JavaScript', 'TypeScript', 'Python', 'TypeScript', 'JavaScript', 'TypeScript', 'Python', None, 'Jupyter Notebook', 'Python', 'Python', 'Python', 'Java', 'Jupyter Notebook', 'Python', 'Python', 'Java', 'Objective-C', 'JavaScript', 'TypeScript', 'Java', None, 'Python', 'Python', 'Python', 'Java', 'Java', 'Kotlin', 'Java', 'C#', 'C#', 'JavaScript', 'JavaScript', 'Go', 'Java', 'TypeScript', 'Python', 'C++', None, 'Python', 'Python', 'Java', 'C#', 'HTML', 'Kotlin', None, 'PHP', 'PHP', None, 'JavaScript', 'Python', 'Scala', 'Python', 'Python', 'Python', 'Python', 'Python', 'Java', 'TypeScript', 'Swift', 'Python', 'TypeScript', 'TypeScript', 'Ruby', 'Python', 'Python', 'Python', 'C', 'Python', 'Python', 'Python', 'C++', 'Java', None, 'Mustache', 'Java', 'Python', 'Swift', 'JavaScript', 'Swift', 'Swift', 'Swift', 'Swift', 'Swift', 'Swift', 'Swift', 'Swift', 'Swift', 'Python', 'Python', 'Python', 'JavaScript', 'Python', 'TypeScript', 'Python', 'Python', 'JavaScript', 'Python', 'Python', 'Zeek', 'Zeek', 'Zeek', 'Zeek', 'Zeek', 'Python']\n",
      "158\n"
     ]
    }
   ],
   "source": [
    "print(repos_language)\n",
    "print(len(repos_language))"
   ]
  },
  {
   "cell_type": "markdown",
   "metadata": {},
   "source": [
    "### DataFrame"
   ]
  },
  {
   "cell_type": "code",
   "execution_count": 17,
   "metadata": {},
   "outputs": [],
   "source": [
    "import pandas as pd"
   ]
  },
  {
   "cell_type": "code",
   "execution_count": 18,
   "metadata": {},
   "outputs": [],
   "source": [
    "dados_amz = pd.DataFrame()\n",
    "dados_amz['repository_name'] = repos_name\n",
    "dados_amz['language'] = repos_language\n"
   ]
  },
  {
   "cell_type": "code",
   "execution_count": 20,
   "metadata": {},
   "outputs": [
    {
     "data": {
      "text/html": [
       "<div>\n",
       "<style scoped>\n",
       "    .dataframe tbody tr th:only-of-type {\n",
       "        vertical-align: middle;\n",
       "    }\n",
       "\n",
       "    .dataframe tbody tr th {\n",
       "        vertical-align: top;\n",
       "    }\n",
       "\n",
       "    .dataframe thead th {\n",
       "        text-align: right;\n",
       "    }\n",
       "</style>\n",
       "<table border=\"1\" class=\"dataframe\">\n",
       "  <thead>\n",
       "    <tr style=\"text-align: right;\">\n",
       "      <th></th>\n",
       "      <th>repository_name</th>\n",
       "      <th>language</th>\n",
       "    </tr>\n",
       "  </thead>\n",
       "  <tbody>\n",
       "    <tr>\n",
       "      <th>0</th>\n",
       "      <td>.github</td>\n",
       "      <td>None</td>\n",
       "    </tr>\n",
       "    <tr>\n",
       "      <th>1</th>\n",
       "      <td>ads-advanced-tools-docs</td>\n",
       "      <td>Jupyter Notebook</td>\n",
       "    </tr>\n",
       "    <tr>\n",
       "      <th>2</th>\n",
       "      <td>ads-pao-amznjs-gtm-template</td>\n",
       "      <td>Smarty</td>\n",
       "    </tr>\n",
       "    <tr>\n",
       "      <th>3</th>\n",
       "      <td>alexa-coho</td>\n",
       "      <td>JavaScript</td>\n",
       "    </tr>\n",
       "    <tr>\n",
       "      <th>4</th>\n",
       "      <td>alexa-skills-kit-js</td>\n",
       "      <td>None</td>\n",
       "    </tr>\n",
       "    <tr>\n",
       "      <th>...</th>\n",
       "      <td>...</td>\n",
       "      <td>...</td>\n",
       "    </tr>\n",
       "    <tr>\n",
       "      <th>153</th>\n",
       "      <td>zeek-plugin-enip</td>\n",
       "      <td>Zeek</td>\n",
       "    </tr>\n",
       "    <tr>\n",
       "      <th>154</th>\n",
       "      <td>zeek-plugin-profinet</td>\n",
       "      <td>Zeek</td>\n",
       "    </tr>\n",
       "    <tr>\n",
       "      <th>155</th>\n",
       "      <td>zeek-plugin-s7comm</td>\n",
       "      <td>Zeek</td>\n",
       "    </tr>\n",
       "    <tr>\n",
       "      <th>156</th>\n",
       "      <td>zeek-plugin-tds</td>\n",
       "      <td>Zeek</td>\n",
       "    </tr>\n",
       "    <tr>\n",
       "      <th>157</th>\n",
       "      <td>zero-shot-rlhr</td>\n",
       "      <td>Python</td>\n",
       "    </tr>\n",
       "  </tbody>\n",
       "</table>\n",
       "<p>158 rows × 2 columns</p>\n",
       "</div>"
      ],
      "text/plain": [
       "                 repository_name          language\n",
       "0                        .github              None\n",
       "1        ads-advanced-tools-docs  Jupyter Notebook\n",
       "2    ads-pao-amznjs-gtm-template            Smarty\n",
       "3                     alexa-coho        JavaScript\n",
       "4            alexa-skills-kit-js              None\n",
       "..                           ...               ...\n",
       "153             zeek-plugin-enip              Zeek\n",
       "154         zeek-plugin-profinet              Zeek\n",
       "155           zeek-plugin-s7comm              Zeek\n",
       "156              zeek-plugin-tds              Zeek\n",
       "157               zero-shot-rlhr            Python\n",
       "\n",
       "[158 rows x 2 columns]"
      ]
     },
     "execution_count": 20,
     "metadata": {},
     "output_type": "execute_result"
    }
   ],
   "source": [
    "dados_amz"
   ]
  },
  {
   "cell_type": "markdown",
   "metadata": {},
   "source": [
    "## Salvando o DataFrame"
   ]
  },
  {
   "cell_type": "code",
   "execution_count": 21,
   "metadata": {},
   "outputs": [],
   "source": [
    "dados_amz.to_csv('amazon.csv')"
   ]
  },
  {
   "cell_type": "markdown",
   "metadata": {},
   "source": [
    "## Armazenando os dados"
   ]
  },
  {
   "cell_type": "markdown",
   "metadata": {},
   "source": [
    "### Criando repo com POST"
   ]
  },
  {
   "cell_type": "code",
   "execution_count": 11,
   "metadata": {},
   "outputs": [
    {
     "data": {
      "text/plain": [
       "'https://api.github.com/user/repos'"
      ]
     },
     "execution_count": 11,
     "metadata": {},
     "output_type": "execute_result"
    }
   ],
   "source": [
    "api_base_url = 'https://api.github.com'\n",
    "url = f'{api_base_url}/user/repos'\n",
    "# Will identify your account based on the previously used access_token\n",
    "url"
   ]
  },
  {
   "cell_type": "code",
   "execution_count": null,
   "metadata": {},
   "outputs": [
    {
     "data": {
      "text/plain": [
       "<Response [201]>"
      ]
     },
     "execution_count": 12,
     "metadata": {},
     "output_type": "execute_result"
    }
   ],
   "source": [
    "# Criando as infos do repo\n",
    "headers = {'X-GitHub-Api-Version': '2022-11-28',\n",
    "           \"Authorization\": f\"token {access_token}\",\n",
    "           \"Accept\": \"application/vnd.github.v3+json\"}\n",
    "\n",
    "\n",
    "data = {\n",
    "    'name': 'linguagens-utilizadas',\n",
    "    'description': 'Repo com linguagem de programação utilizadas pela Amazon.',\n",
    "    'private': False\n",
    "}\n",
    "\n",
    "response = requests.post(url=url, data=json.dumps(data), headers=headers)\n",
    "response"
   ]
  },
  {
   "cell_type": "markdown",
   "metadata": {},
   "source": [
    "### Formato do Arquivo"
   ]
  },
  {
   "cell_type": "code",
   "execution_count": 13,
   "metadata": {},
   "outputs": [],
   "source": [
    "import base64"
   ]
  },
  {
   "cell_type": "code",
   "execution_count": null,
   "metadata": {},
   "outputs": [],
   "source": [
    "with open('amazon.csv', 'rb') as file:\n",
    "    file_content = file.read()\n",
    "\n",
    "encoded_content = base64.b64encode(file_content)"
   ]
  },
  {
   "cell_type": "markdown",
   "metadata": {},
   "source": [
    "### Upload do arquivo no GitHub"
   ]
  },
  {
   "cell_type": "code",
   "execution_count": 18,
   "metadata": {},
   "outputs": [
    {
     "data": {
      "text/plain": [
       "'https://api.github.com/repos/fFukurou/linguagens-utilizadas/contents/amazon.csv'"
      ]
     },
     "execution_count": 18,
     "metadata": {},
     "output_type": "execute_result"
    }
   ],
   "source": [
    "api_base_url = 'https://api.github.com'\n",
    "username = 'fFukurou'\n",
    "repo = 'linguagens-utilizadas'\n",
    "path = 'amazon.csv'\n",
    "\n",
    "url = f\"{api_base_url}/repos/{username}/{repo}/contents/{path}\"\n",
    "url"
   ]
  },
  {
   "cell_type": "code",
   "execution_count": 19,
   "metadata": {},
   "outputs": [
    {
     "data": {
      "text/plain": [
       "201"
      ]
     },
     "execution_count": 19,
     "metadata": {},
     "output_type": "execute_result"
    }
   ],
   "source": [
    "data = {\n",
    "    'message': 'added amazon.csv',\n",
    "    'content': encoded_content.decode('utf-8'),\n",
    "}\n",
    "\n",
    "response = requests.put(url, json=data, headers=headers)\n",
    "response.status_code"
   ]
  },
  {
   "cell_type": "code",
   "execution_count": null,
   "metadata": {},
   "outputs": [],
   "source": []
  }
 ],
 "metadata": {
  "kernelspec": {
   "display_name": ".venv",
   "language": "python",
   "name": "python3"
  },
  "language_info": {
   "codemirror_mode": {
    "name": "ipython",
    "version": 3
   },
   "file_extension": ".py",
   "mimetype": "text/x-python",
   "name": "python",
   "nbconvert_exporter": "python",
   "pygments_lexer": "ipython3",
   "version": "3.10.12"
  }
 },
 "nbformat": 4,
 "nbformat_minor": 2
}
