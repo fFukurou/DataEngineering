{
 "cells": [
  {
   "cell_type": "code",
   "execution_count": 8,
   "metadata": {},
   "outputs": [],
   "source": [
    "import csv"
   ]
  },
  {
   "cell_type": "code",
   "execution_count": 9,
   "metadata": {},
   "outputs": [],
   "source": [
    "lista_clientes = [\n",
    "    {\n",
    "        \"Nome\": \"Lucas Silva\",\n",
    "        \"Idade\": 28,\n",
    "        \"E-mail\": \"lucas.silva@email.com\"\n",
    "    },\n",
    "    {\n",
    "        \"Nome\": \"Mariana Oliveira\",\n",
    "        \"Idade\": 34,\n",
    "        \"E-mail\": \"mariana.oliveira@email.com\"\n",
    "    },\n",
    "    {\n",
    "        \"Nome\": \"Roberto Alves\",\n",
    "        \"Idade\": 42,\n",
    "        \"E-mail\": \"roberto.alves@email.com\"\n",
    "    }\n",
    "]"
   ]
  },
  {
   "cell_type": "code",
   "execution_count": 10,
   "metadata": {},
   "outputs": [
    {
     "data": {
      "text/plain": [
       "list"
      ]
     },
     "execution_count": 10,
     "metadata": {},
     "output_type": "execute_result"
    }
   ],
   "source": [
    "type(lista_clientes)"
   ]
  },
  {
   "cell_type": "code",
   "execution_count": 11,
   "metadata": {},
   "outputs": [
    {
     "data": {
      "text/plain": [
       "['Nome', 'Idade', 'E-mail']"
      ]
     },
     "execution_count": 11,
     "metadata": {},
     "output_type": "execute_result"
    }
   ],
   "source": [
    "headers = list(lista_clientes[0].keys())\n",
    "headers"
   ]
  },
  {
   "cell_type": "code",
   "execution_count": 12,
   "metadata": {},
   "outputs": [],
   "source": [
    "import csv\n",
    "\n",
    "with open ('../data_processed/clientes.csv', 'w') as file:\n",
    "    writer = csv.DictWriter(file, fieldnames=headers)\n",
    "    writer.writeheader()\n",
    "    \n",
    "    writer.writerows(lista_clientes)"
   ]
  },
  {
   "cell_type": "code",
   "execution_count": 13,
   "metadata": {},
   "outputs": [
    {
     "data": {
      "text/plain": [
       "[2, 4, 6, 8, 10]"
      ]
     },
     "execution_count": 13,
     "metadata": {},
     "output_type": "execute_result"
    }
   ],
   "source": [
    "numeros = [1, 2, 3, 4, 5, 6, 7, 8, 9, 10]\n",
    "\n",
    "pares = [num for num in numeros if num % 2 == 0]\n",
    "\n",
    "pares"
   ]
  },
  {
   "cell_type": "code",
   "execution_count": 14,
   "metadata": {},
   "outputs": [],
   "source": [
    "dados_alunos = [\n",
    "    [\"Nome\", \"Nota 1\", \"Nota 2\", \"Média\"],  # Cabeçalho\n",
    "    [\"Lucas\", 8.5, 7.2, 7.85],              # Dados do aluno Lucas\n",
    "    [\"Mariana\", 9.0, 9.5, 9.25],            # Dados da aluna Mariana\n",
    "    [\"Roberto\", 7.0, 6.8, 6.9]              # Dados do aluno Roberto\n",
    "]"
   ]
  },
  {
   "cell_type": "code",
   "execution_count": 15,
   "metadata": {},
   "outputs": [
    {
     "data": {
      "text/plain": [
       "[['Nome', 'Nota 1', 'Nota 2', 'Média'],\n",
       " ['Lucas', 8.5, 7.2, 7.85],\n",
       " ['Mariana', 9.0, 9.5, 9.25],\n",
       " ['Roberto', 7.0, 6.8, 6.9]]"
      ]
     },
     "execution_count": 15,
     "metadata": {},
     "output_type": "execute_result"
    }
   ],
   "source": [
    "dados_alunos"
   ]
  },
  {
   "cell_type": "code",
   "execution_count": 16,
   "metadata": {},
   "outputs": [],
   "source": [
    "with open('../data_processed/alunos.csv', 'w') as file:\n",
    "    writer = csv.writer(file)\n",
    "    \n",
    "    writer.writerows(dados_alunos)"
   ]
  }
 ],
 "metadata": {
  "kernelspec": {
   "display_name": ".venv",
   "language": "python",
   "name": "python3"
  },
  "language_info": {
   "codemirror_mode": {
    "name": "ipython",
    "version": 3
   },
   "file_extension": ".py",
   "mimetype": "text/x-python",
   "name": "python",
   "nbconvert_exporter": "python",
   "pygments_lexer": "ipython3",
   "version": "3.10.12"
  }
 },
 "nbformat": 4,
 "nbformat_minor": 2
}
