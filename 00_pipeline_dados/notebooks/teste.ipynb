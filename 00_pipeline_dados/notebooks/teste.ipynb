{
 "cells": [
  {
   "cell_type": "code",
   "execution_count": 64,
   "metadata": {},
   "outputs": [],
   "source": [
    "lista_livros = [\n",
    "    {\n",
    "        \"titulo\": \"1984\",\n",
    "        \"autor\": \"George Orwell\",\n",
    "        \"categoria\": \"FIC\"\n",
    "    },\n",
    "    {\n",
    "        \"titulo\": \"Uma Breve História do Tempo\",\n",
    "        \"autor\": \"Stephen Hawking\",\n",
    "        \"categoria\": \"SCI\"\n",
    "    },\n",
    "]"
   ]
  },
  {
   "cell_type": "code",
   "execution_count": 65,
   "metadata": {},
   "outputs": [
    {
     "name": "stdout",
     "output_type": "stream",
     "text": [
      "<class 'list'>\n",
      "<class 'dict'>\n"
     ]
    }
   ],
   "source": [
    "lista_livros[0]\n",
    "print(type(lista_livros))\n",
    "print(type(lista_livros[0]))"
   ]
  },
  {
   "cell_type": "code",
   "execution_count": 66,
   "metadata": {},
   "outputs": [],
   "source": [
    "key_mapping = {\n",
    "    'FIC':'Ficção',\n",
    "    'BIO':'Biografia',\n",
    "    'HIS':'História',\n",
    "    'SCI':'Ciência',\n",
    "    'PHI':'Filosofia'\n",
    "}"
   ]
  },
  {
   "cell_type": "code",
   "execution_count": 67,
   "metadata": {},
   "outputs": [
    {
     "name": "stdout",
     "output_type": "stream",
     "text": [
      "[{'titulo': '1984', 'autor': 'George Orwell', 'categoria': 'FIC'}, {'titulo': 'Uma Breve História do Tempo', 'autor': 'Stephen Hawking', 'categoria': 'SCI'}]\n",
      "[{'titulo': '1984', 'autor': 'George Orwell', 'categoria': 'Ficção'}, {'titulo': 'Uma Breve História do Tempo', 'autor': 'Stephen Hawking', 'categoria': 'Ciência'}]\n"
     ]
    }
   ],
   "source": [
    "# MY SOLUTION\n",
    "\n",
    "# Create new_data empty list to store the treated data\n",
    "livros_atualizados = []\n",
    "\n",
    "# Iterates through the original list/data\n",
    "for old_dict in lista_livros:\n",
    "    # Creates empty, temporary dictionary\n",
    "    temp_dict = {}\n",
    "    # Iterates through each key-value pair in the list using the .items() method\n",
    "    for key, value in old_dict.items():\n",
    "        if key == 'categoria':\n",
    "            temp_dict['categoria'] = key_mapping[value]\n",
    "            \n",
    "        elif key == 'autor':\n",
    "            temp_dict['autor'] = value\n",
    "            \n",
    "            \n",
    "        elif key == 'titulo':\n",
    "            temp_dict['titulo'] = value\n",
    "        \n",
    "\n",
    "    livros_atualizados.append(temp_dict)\n",
    "            \n",
    "            \n",
    "print(lista_livros)\n",
    "print(livros_atualizados)\n",
    "    \n",
    "        \n",
    "    "
   ]
  },
  {
   "cell_type": "code",
   "execution_count": 68,
   "metadata": {},
   "outputs": [
    {
     "data": {
      "text/plain": [
       "'categorias = {\"FIC\": \"Ficção\", \"BIO\": \"Biografia\", \"HIS\": \"História\", \"SCI\": \"Ciência\", \"PHI\": \"Filosofia\"}\\nlivros_atualizados = []\\n\\nfor livro in lista_livros:\\n    livro_temp = {}\\n    for k, v in livro.items():\\n        if k == \"categoria\":\\n            livro_temp[categorias[v] ] = categorias[v] \\n        else:\\n            livro_temp[k] = v\\n    livros_atualizados.append(livro_temp)\\nlivros_atualizados'"
      ]
     },
     "execution_count": 68,
     "metadata": {},
     "output_type": "execute_result"
    }
   ],
   "source": [
    "# ALURA SOLUTION 1 (WRONG)\n",
    "\"\"\"categorias = {\"FIC\": \"Ficção\", \"BIO\": \"Biografia\", \"HIS\": \"História\", \"SCI\": \"Ciência\", \"PHI\": \"Filosofia\"}\n",
    "livros_atualizados = []\n",
    "\n",
    "for livro in lista_livros:\n",
    "    livro_temp = {}\n",
    "    for k, v in livro.items():\n",
    "        if k == \"categoria\":\n",
    "            livro_temp[categorias[v] ] = categorias[v] \n",
    "        else:\n",
    "            livro_temp[k] = v\n",
    "    livros_atualizados.append(livro_temp)\n",
    "livros_atualizados\"\"\"\n"
   ]
  },
  {
   "cell_type": "code",
   "execution_count": 69,
   "metadata": {},
   "outputs": [
    {
     "data": {
      "text/plain": [
       "'categorias = {\"FIC\": \"Ficção\", \"BIO\": \"Biografia\", \"HIS\": \"História\", \"SCI\": \"Ciência\", \"PHI\": \"Filosofia\"}\\nlivros_atualizados = []\\n\\n\\nfor livro in lista_livros:\\n    livro[\"categoria\"] = categorias[livro[\"categoria\"]]'"
      ]
     },
     "execution_count": 69,
     "metadata": {},
     "output_type": "execute_result"
    }
   ],
   "source": [
    "# ALURA SOLUTION 2 (WRONG) WILL CHANGE THE ACTUAL ORIGINAL DATA\n",
    "\"\"\"categorias = {\"FIC\": \"Ficção\", \"BIO\": \"Biografia\", \"HIS\": \"História\", \"SCI\": \"Ciência\", \"PHI\": \"Filosofia\"}\n",
    "livros_atualizados = []\n",
    "\n",
    "\n",
    "for livro in lista_livros:\n",
    "    livro[\"categoria\"] = categorias[livro[\"categoria\"]]\"\"\""
   ]
  },
  {
   "cell_type": "code",
   "execution_count": 70,
   "metadata": {},
   "outputs": [
    {
     "data": {
      "text/plain": [
       "'categorias = {\"FIC\": \"Ficção\", \"BIO\": \"Biografia\", \"HIS\": \"História\", \"SCI\": \"Ciência\", \"PHI\": \"Filosofia\"}\\nlivros_atualizados = []\\n\\nfor livro in lista_livros:\\n    livro_temp = {}\\n    for k, v in livro.items():\\n        if k == \"categoria\":\\n            livro_temp[k] = v  \\n        else:\\n            livro_temp[k] = v\\n    livros_atualizados.append(livro_temp)\\nlivros_atualizados'"
      ]
     },
     "execution_count": 70,
     "metadata": {},
     "output_type": "execute_result"
    }
   ],
   "source": [
    "# ALURA SOLUTION 4 (WRONG)\n",
    "\n",
    "\"\"\"categorias = {\"FIC\": \"Ficção\", \"BIO\": \"Biografia\", \"HIS\": \"História\", \"SCI\": \"Ciência\", \"PHI\": \"Filosofia\"}\n",
    "livros_atualizados = []\n",
    "\n",
    "for livro in lista_livros:\n",
    "    livro_temp = {}\n",
    "    for k, v in livro.items():\n",
    "        if k == \"categoria\":\n",
    "            livro_temp[k] = v  \n",
    "        else:\n",
    "            livro_temp[k] = v\n",
    "    livros_atualizados.append(livro_temp)\n",
    "livros_atualizados\"\"\""
   ]
  }
 ],
 "metadata": {
  "kernelspec": {
   "display_name": ".venv",
   "language": "python",
   "name": "python3"
  },
  "language_info": {
   "codemirror_mode": {
    "name": "ipython",
    "version": 3
   },
   "file_extension": ".py",
   "mimetype": "text/x-python",
   "name": "python",
   "nbconvert_exporter": "python",
   "pygments_lexer": "ipython3",
   "version": "3.10.12"
  }
 },
 "nbformat": 4,
 "nbformat_minor": 2
}
